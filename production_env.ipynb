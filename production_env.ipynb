{
 "cells": [
  {
   "cell_type": "code",
   "execution_count": 1,
   "id": "fe6ae5d6",
   "metadata": {},
   "outputs": [],
   "source": [
    "import subprocess\n",
    "import requests"
   ]
  },
  {
   "cell_type": "code",
   "execution_count": 2,
   "id": "c228e7c2",
   "metadata": {},
   "outputs": [
    {
     "name": "stdout",
     "output_type": "stream",
     "text": [
      "Overwriting klasa_perceptron.py\n"
     ]
    }
   ],
   "source": [
    "%%file klasa_perceptron.py\n",
    "import numpy as np\n",
    "import pandas as pd\n",
    "class Perceptron:\n",
    "    \n",
    "    def __init__(self, eta=0.01, n_iter=10):\n",
    "        self.eta = eta\n",
    "        self.n_iter = n_iter\n",
    "    \n",
    "    def fit(self, X, y):\n",
    "        self.w_ = np.zeros(1 + X.shape[1])\n",
    "        self.errors_ = []\n",
    "        \n",
    "        for _ in range(self.n_iter):\n",
    "            errors = 0\n",
    "            for xi, target in zip(X, y):\n",
    "                update = self.eta * (target - self.predict(xi))\n",
    "                self.w_[1:] += update * xi\n",
    "                self.w_[0] += update\n",
    "                errors += int(update != 0.0)\n",
    "            self.errors_.append(errors)\n",
    "    \n",
    "    def predict(self, X):\n",
    "        return np.where(self._net_input(X) >= 0, 1, -1)\n",
    "    \n",
    "    def _net_input(self, X):\n",
    "        return np.dot(X, self.w_[1:]) + self.w_[0]"
   ]
  },
  {
   "cell_type": "code",
   "execution_count": 3,
   "id": "88744489",
   "metadata": {},
   "outputs": [
    {
     "name": "stdout",
     "output_type": "stream",
     "text": [
      "Overwriting model.py\n"
     ]
    }
   ],
   "source": [
    "%%file model.py\n",
    "from klasa_perceptron import Perceptron\n",
    "import pickle \n",
    "import pandas as pd \n",
    "import numpy as np\n",
    "\n",
    "from sklearn.datasets import load_iris\n",
    "\n",
    "iris = load_iris()\n",
    "df = pd.DataFrame(data=np.c_[iris['data'], iris['target']], \n",
    "                  columns=iris['feature_names']+['target'])\n",
    "X = df.iloc[:100,[0,2]].values\n",
    "y = df.iloc[:100,4].values\n",
    "\n",
    "model = Perceptron()   \n",
    "model.fit(X, y)  \n",
    "model.errors_\n",
    "model.w_\n",
    "model.predict(X)\n",
    "\n",
    "#save model to file\n",
    "with open('perceptron_model.pkl', 'wb') as pp:\n",
    "    pickle.dump(model, pp)"
   ]
  },
  {
   "cell_type": "code",
   "execution_count": 4,
   "id": "e0f5e162",
   "metadata": {},
   "outputs": [],
   "source": [
    "%run model.py"
   ]
  },
  {
   "cell_type": "code",
   "execution_count": 5,
   "id": "6eb60bfb",
   "metadata": {},
   "outputs": [
    {
     "name": "stdout",
     "output_type": "stream",
     "text": [
      "Overwriting app.py\n"
     ]
    }
   ],
   "source": [
    "%%file app.py\n",
    "\n",
    "import numpy as np\n",
    "from flask import Flask, request, jsonify\n",
    "import pickle\n",
    "from flask_sqlalchemy import SQLAlchemy\n",
    "from sqlalchemy import create_engine, MetaData, Table, Column, Integer, String\n",
    "\n",
    "\n",
    "engine = create_engine('sqlite:///perceptron_predict.db')\n",
    "\n",
    "SQLALCHEMY_TRACK_MODIFICATIONS = False\n",
    "\n",
    "\n",
    "# Create a flask\n",
    "app = Flask(__name__)\n",
    "\n",
    "app.config ['SQLALCHEMY_DATABASE_URI'] = 'sqlite:///perceptron_predict.db'\n",
    "\n",
    "mmodel = pickle.load(open('perceptron_model.pkl','rb'))\n",
    "\n",
    "# create table named Results in created database\n",
    "meta = MetaData()\n",
    "results = Table(\n",
    "   'Results', meta, \n",
    "   Column('id', Integer, primary_key = True), \n",
    "   Column('SepalLength', Integer), \n",
    "   Column('PetalLength', Integer),\n",
    "   Column('ClassificationResult', Integer),\n",
    ")\n",
    "\n",
    "\n",
    "# Create an API end point\n",
    "@app.route('/api', methods=['GET'])\n",
    "def classification():\n",
    "    sepal_length = float(request.args.get(\"sepal_length\", \"\"))\n",
    "    petal_length = float(request.args.get(\"petal_length\", \"\"))\n",
    "    lista = [sepal_length, petal_length]\n",
    "    weights = mmodel.w_\n",
    "\n",
    "    if sepal_length>0 and petal_length>0:\n",
    "#generate classification result based on inserted values\n",
    "        target = mmodel.predict([lista])\n",
    "#creating json file returned by function\n",
    "        resp = jsonify(SepalLength=sepal_length, \n",
    "                       PetalLength=petal_length, \n",
    "                       Weights=list(weights),\n",
    "                       ClassificationResult = target.tolist())\n",
    "# establish connection with our database\n",
    "        conn = engine.connect()\n",
    "# inserting inserted values and classification result to table Results\n",
    "        ins =results.insert().values(SepalLength=sepal_length, \n",
    "                       PetalLength=petal_length,\n",
    "                       ClassificationResult = target.tolist()[0])\n",
    "        result = conn.execute(ins)\n",
    "    else:\n",
    "        resp = \"Wprowadzono nieprawidlowe wartosci\"\n",
    "    return resp\n",
    "\n",
    "\n",
    "\n",
    "if __name__ == '__main__':\n",
    "    meta.create_all(engine)\n",
    "    app.run(port=4917, debug=True)"
   ]
  },
  {
   "cell_type": "code",
   "execution_count": 6,
   "id": "5293c3a3",
   "metadata": {},
   "outputs": [
    {
     "name": "stdout",
     "output_type": "stream",
     "text": [
      " * Serving Flask app 'app' (lazy loading)\n",
      " * Environment: production\n",
      "   WARNING: This is a development server. Do not use it in a production deployment.\n",
      "   Use a production WSGI server instead.\n",
      " * Debug mode: on\n"
     ]
    },
    {
     "name": "stderr",
     "output_type": "stream",
     "text": [
      " * Running on http://127.0.0.1:4917 (Press CTRL+C to quit)\n",
      " * Restarting with stat\n",
      " * Debugger is active!\n",
      " * Debugger PIN: 753-429-189\n"
     ]
    }
   ],
   "source": [
    "p = subprocess.Popen([\"python\", \"app.py\"])"
   ]
  },
  {
   "cell_type": "code",
   "execution_count": 7,
   "id": "62bad3c1",
   "metadata": {},
   "outputs": [
    {
     "name": "stderr",
     "output_type": "stream",
     "text": [
      "127.0.0.1 - - [06/May/2022 22:31:04] \"GET /api?sepal_length=5.1&petal_length=1.4 HTTP/1.1\" 200 -\n"
     ]
    },
    {
     "data": {
      "text/plain": [
       "'{\\n  \"ClassificationResult\": [\\n    -1\\n  ], \\n  \"PetalLength\": 1.4, \\n  \"SepalLength\": 5.1, \\n  \"Weights\": [\\n    0.0, \\n    -0.016000000000000056, \\n    0.043999999999999956\\n  ]\\n}\\n'"
      ]
     },
     "execution_count": 7,
     "metadata": {},
     "output_type": "execute_result"
    }
   ],
   "source": [
    "response = requests.get(\"http://127.0.0.1:4917/api?sepal_length=5.1&petal_length=1.4\")\n",
    "response.text"
   ]
  },
  {
   "cell_type": "code",
   "execution_count": 8,
   "id": "cde7d745",
   "metadata": {},
   "outputs": [],
   "source": [
    "p.kill()"
   ]
  },
  {
   "cell_type": "code",
   "execution_count": null,
   "id": "c4b230c7",
   "metadata": {},
   "outputs": [],
   "source": []
  },
  {
   "cell_type": "code",
   "execution_count": null,
   "id": "0d2fe69a",
   "metadata": {},
   "outputs": [],
   "source": []
  }
 ],
 "metadata": {
  "kernelspec": {
   "display_name": "Python 3 (ipykernel)",
   "language": "python",
   "name": "python3"
  },
  "language_info": {
   "codemirror_mode": {
    "name": "ipython",
    "version": 3
   },
   "file_extension": ".py",
   "mimetype": "text/x-python",
   "name": "python",
   "nbconvert_exporter": "python",
   "pygments_lexer": "ipython3",
   "version": "3.9.12"
  }
 },
 "nbformat": 4,
 "nbformat_minor": 5
}
